{
 "cells": [
  {
   "cell_type": "code",
   "execution_count": 51,
   "id": "20b61ce5",
   "metadata": {},
   "outputs": [],
   "source": [
    "import pandas as pd\n",
    "import numpy as np\n",
    "import scipy\n",
    "import random\n",
    "import matplotlib.pyplot as plt\n",
    "import seaborn as sns\n",
    "import warnings\n",
    "warnings.filterwarnings('ignore')"
   ]
  },
  {
   "cell_type": "code",
   "execution_count": 52,
   "id": "5b46f143",
   "metadata": {},
   "outputs": [],
   "source": [
    "file_name = '../data/AdSmartABdata.csv'\n",
    "adsmrt_df = pd.read_csv(file_name)\n"
   ]
  },
  {
   "cell_type": "markdown",
   "id": "664dbfc8",
   "metadata": {},
   "source": [
    "### 1. Hypothesis"
   ]
  },
  {
   "cell_type": "markdown",
   "id": "0c79cb45",
   "metadata": {},
   "source": [
    "**Null Hypothesis (Ho) :** change in the advertisement design wont make a significant brand awareness<br>\n",
    "**Alternate Hypothesis (Ha) :** Change to the createive design will make siginificant brand awarness\n"
   ]
  },
  {
   "cell_type": "code",
   "execution_count": 53,
   "id": "b9fa47a8",
   "metadata": {},
   "outputs": [
    {
     "name": "stdout",
     "output_type": "stream",
     "text": [
      "\n",
      "DataFrame Shape : (8077, 9)\n",
      "\n",
      "Number of rows : 8077\n",
      "\n",
      "Number of columns : 9\n"
     ]
    }
   ],
   "source": [
    "#get dataframe shape\n",
    "shape=adsmrt_df.shape\n",
    "print('\\nDataFrame Shape :', shape)\n",
    "print('\\nNumber of rows :', shape[0])\n",
    "print('\\nNumber of columns :', shape[1])"
   ]
  },
  {
   "cell_type": "code",
   "execution_count": 54,
   "id": "a27c8434",
   "metadata": {},
   "outputs": [
    {
     "data": {
      "text/html": [
       "<div>\n",
       "<style scoped>\n",
       "    .dataframe tbody tr th:only-of-type {\n",
       "        vertical-align: middle;\n",
       "    }\n",
       "\n",
       "    .dataframe tbody tr th {\n",
       "        vertical-align: top;\n",
       "    }\n",
       "\n",
       "    .dataframe thead th {\n",
       "        text-align: right;\n",
       "    }\n",
       "</style>\n",
       "<table border=\"1\" class=\"dataframe\">\n",
       "  <thead>\n",
       "    <tr style=\"text-align: right;\">\n",
       "      <th></th>\n",
       "      <th>hour</th>\n",
       "      <th>platform_os</th>\n",
       "      <th>yes</th>\n",
       "      <th>no</th>\n",
       "    </tr>\n",
       "  </thead>\n",
       "  <tbody>\n",
       "    <tr>\n",
       "      <th>count</th>\n",
       "      <td>8077.000000</td>\n",
       "      <td>8077.000000</td>\n",
       "      <td>8077.000000</td>\n",
       "      <td>8077.000000</td>\n",
       "    </tr>\n",
       "    <tr>\n",
       "      <th>mean</th>\n",
       "      <td>11.615080</td>\n",
       "      <td>5.947134</td>\n",
       "      <td>0.070818</td>\n",
       "      <td>0.083075</td>\n",
       "    </tr>\n",
       "    <tr>\n",
       "      <th>std</th>\n",
       "      <td>5.734879</td>\n",
       "      <td>0.224333</td>\n",
       "      <td>0.256537</td>\n",
       "      <td>0.276013</td>\n",
       "    </tr>\n",
       "    <tr>\n",
       "      <th>min</th>\n",
       "      <td>0.000000</td>\n",
       "      <td>5.000000</td>\n",
       "      <td>0.000000</td>\n",
       "      <td>0.000000</td>\n",
       "    </tr>\n",
       "    <tr>\n",
       "      <th>25%</th>\n",
       "      <td>7.000000</td>\n",
       "      <td>6.000000</td>\n",
       "      <td>0.000000</td>\n",
       "      <td>0.000000</td>\n",
       "    </tr>\n",
       "    <tr>\n",
       "      <th>50%</th>\n",
       "      <td>13.000000</td>\n",
       "      <td>6.000000</td>\n",
       "      <td>0.000000</td>\n",
       "      <td>0.000000</td>\n",
       "    </tr>\n",
       "    <tr>\n",
       "      <th>75%</th>\n",
       "      <td>15.000000</td>\n",
       "      <td>6.000000</td>\n",
       "      <td>0.000000</td>\n",
       "      <td>0.000000</td>\n",
       "    </tr>\n",
       "    <tr>\n",
       "      <th>max</th>\n",
       "      <td>23.000000</td>\n",
       "      <td>7.000000</td>\n",
       "      <td>1.000000</td>\n",
       "      <td>1.000000</td>\n",
       "    </tr>\n",
       "  </tbody>\n",
       "</table>\n",
       "</div>"
      ],
      "text/plain": [
       "              hour  platform_os          yes           no\n",
       "count  8077.000000  8077.000000  8077.000000  8077.000000\n",
       "mean     11.615080     5.947134     0.070818     0.083075\n",
       "std       5.734879     0.224333     0.256537     0.276013\n",
       "min       0.000000     5.000000     0.000000     0.000000\n",
       "25%       7.000000     6.000000     0.000000     0.000000\n",
       "50%      13.000000     6.000000     0.000000     0.000000\n",
       "75%      15.000000     6.000000     0.000000     0.000000\n",
       "max      23.000000     7.000000     1.000000     1.000000"
      ]
     },
     "execution_count": 54,
     "metadata": {},
     "output_type": "execute_result"
    }
   ],
   "source": [
    "adsmrt_df.describe()"
   ]
  },
  {
   "cell_type": "markdown",
   "id": "efc737bc",
   "metadata": {},
   "source": [
    "count - The number of not-empty values.<br>\n",
    "mean - The average (mean) value.<br>\n",
    "std - The standard deviation.<br>\n",
    "min - the minimum value.<br>\n",
    "25% - The 25% percentile*.<br>\n",
    "50% - The 50% percentile*.<br>\n",
    "75% - The 75% percentile*.<br>\n",
    "max - the maximum value."
   ]
  },
  {
   "cell_type": "markdown",
   "id": "4466baab",
   "metadata": {},
   "source": [
    "Information About the AdSmartABdata DataFrame"
   ]
  },
  {
   "cell_type": "code",
   "execution_count": 55,
   "id": "0dea8971",
   "metadata": {},
   "outputs": [
    {
     "name": "stdout",
     "output_type": "stream",
     "text": [
      "<class 'pandas.core.frame.DataFrame'>\n",
      "RangeIndex: 8077 entries, 0 to 8076\n",
      "Data columns (total 9 columns):\n",
      " #   Column       Non-Null Count  Dtype \n",
      "---  ------       --------------  ----- \n",
      " 0   auction_id   8077 non-null   object\n",
      " 1   experiment   8077 non-null   object\n",
      " 2   date         8077 non-null   object\n",
      " 3   hour         8077 non-null   int64 \n",
      " 4   device_make  8077 non-null   object\n",
      " 5   platform_os  8077 non-null   int64 \n",
      " 6   browser      8077 non-null   object\n",
      " 7   yes          8077 non-null   int64 \n",
      " 8   no           8077 non-null   int64 \n",
      "dtypes: int64(4), object(5)\n",
      "memory usage: 568.0+ KB\n"
     ]
    }
   ],
   "source": [
    "adsmrt_df.info()"
   ]
  },
  {
   "cell_type": "markdown",
   "id": "05519587",
   "metadata": {},
   "source": [
    "Number of missing values in each row and column of AdSmartABdata DataFrame"
   ]
  },
  {
   "cell_type": "code",
   "execution_count": 56,
   "id": "daae27f1",
   "metadata": {},
   "outputs": [
    {
     "data": {
      "text/plain": [
       "auction_id     0\n",
       "experiment     0\n",
       "date           0\n",
       "hour           0\n",
       "device_make    0\n",
       "platform_os    0\n",
       "browser        0\n",
       "yes            0\n",
       "no             0\n",
       "dtype: int64"
      ]
     },
     "execution_count": 56,
     "metadata": {},
     "output_type": "execute_result"
    }
   ],
   "source": [
    "adsmrt_df.isnull().sum()"
   ]
  },
  {
   "cell_type": "code",
   "execution_count": 57,
   "id": "0ec1dd48",
   "metadata": {},
   "outputs": [
    {
     "data": {
      "text/plain": [
       "<AxesSubplot:ylabel='experiment'>"
      ]
     },
     "execution_count": 57,
     "metadata": {},
     "output_type": "execute_result"
    },
    {
     "data": {
      "image/png": "[encoded data removed]",
      "text/plain": [
       "<Figure size 936x468 with 1 Axes>"
      ]
     },
     "metadata": {
      "needs_background": "light"
     },
     "output_type": "display_data"
    }
   ],
   "source": [
    "# Size count of exposed and control\n",
    "\n",
    "result = adsmrt_df['experiment'].value_counts()\n",
    "plt.figure(figsize=(13, 6.5))\n",
    "sns.barplot(x=result.index, y=result)"
   ]
  },
  {
   "cell_type": "code",
   "execution_count": 58,
   "id": "d256506b",
   "metadata": {},
   "outputs": [
    {
     "data": {
      "text/plain": [
       "<AxesSubplot:xlabel='experiment', ylabel='yes'>"
      ]
     },
     "execution_count": 58,
     "metadata": {},
     "output_type": "execute_result"
    },
    {
     "data": {
      "image/png": "[encoded data removed]",
      "text/plain": [
       "<Figure size 936x468 with 1 Axes>"
      ]
     },
     "metadata": {
      "needs_background": "light"
     },
     "output_type": "display_data"
    }
   ],
   "source": [
    "# yes counts on experiments sets\n",
    "\n",
    "plt.figure(figsize=(13, 6.5))\n",
    "sns.barplot(data=adsmrt_df, x='experiment', y='yes')"
   ]
  },
  {
   "cell_type": "code",
   "execution_count": 59,
   "id": "d2e67b0d",
   "metadata": {},
   "outputs": [
    {
     "data": {
      "text/plain": [
       "<AxesSubplot:ylabel='date'>"
      ]
     },
     "execution_count": 59,
     "metadata": {},
     "output_type": "execute_result"
    },
    {
     "data": {
      "image/png": "[encoded data removed]",
      "text/plain": [
       "<Figure size 936x468 with 1 Axes>"
      ]
     },
     "metadata": {
      "needs_background": "light"
     },
     "output_type": "display_data"
    }
   ],
   "source": [
    "# count dates\n",
    "\n",
    "result = adsmrt_df['date'].value_counts()\n",
    "plt.figure(figsize=(13, 6.5))\n",
    "sns.barplot(y=result, x=result.index )"
   ]
  },
  {
   "cell_type": "code",
   "execution_count": 60,
   "id": "93ee7fa9",
   "metadata": {},
   "outputs": [
    {
     "data": {
      "text/plain": [
       "<AxesSubplot:ylabel='hour'>"
      ]
     },
     "execution_count": 60,
     "metadata": {},
     "output_type": "execute_result"
    },
    {
     "data": {
      "image/png": "[encoded data removed]",
      "text/plain": [
       "<Figure size 936x468 with 1 Axes>"
      ]
     },
     "metadata": {
      "needs_background": "light"
     },
     "output_type": "display_data"
    }
   ],
   "source": [
    "# Most frequesnt hours\n",
    "\n",
    "result = adsmrt_df['hour'].value_counts()\n",
    "plt.figure(figsize=(13, 6.5))\n",
    "sns.barplot(y=result, x=result.index )"
   ]
  },
  {
   "cell_type": "code",
   "execution_count": 61,
   "id": "babb872c",
   "metadata": {},
   "outputs": [
    {
     "data": {
      "text/plain": [
       "<AxesSubplot:ylabel='browser'>"
      ]
     },
     "execution_count": 61,
     "metadata": {},
     "output_type": "execute_result"
    },
    {
     "data": {
      "image/png": "[encoded data removed]",
      "text/plain": [
       "<Figure size 936x468 with 1 Axes>"
      ]
     },
     "metadata": {
      "needs_background": "light"
     },
     "output_type": "display_data"
    }
   ],
   "source": [
    "# Most frequesnt browsers\n",
    "\n",
    "browser = adsmrt_df['browser'].value_counts().head(5)\n",
    "plt.figure(figsize=(13, 6.5))\n",
    "sns.barplot(x=browser.index, y=browser)\n",
    "# plt.xticks(rotation= 20)"
   ]
  },
  {
   "cell_type": "code",
   "execution_count": 62,
   "id": "c1936272",
   "metadata": {},
   "outputs": [
    {
     "data": {
      "text/plain": [
       "(array([0, 1, 2, 3, 4, 5, 6, 7, 8, 9]),\n",
       " [Text(0, 0, 'Generic Smartphone'),\n",
       "  Text(1, 0, 'iPhone'),\n",
       "  Text(2, 0, 'Samsung SM-G960F'),\n",
       "  Text(3, 0, 'Samsung SM-G973F'),\n",
       "  Text(4, 0, 'Samsung SM-G950F'),\n",
       "  Text(5, 0, 'Samsung SM-G930F'),\n",
       "  Text(6, 0, 'Samsung SM-G975F'),\n",
       "  Text(7, 0, 'Samsung SM-A202F'),\n",
       "  Text(8, 0, 'Samsung SM-A405FN'),\n",
       "  Text(9, 0, 'Samsung SM-J330FN')])"
      ]
     },
     "execution_count": 62,
     "metadata": {},
     "output_type": "execute_result"
    },
    {
     "data": {
      "image/png": "[encoded data removed]",
      "text/plain": [
       "<Figure size 936x468 with 1 Axes>"
      ]
     },
     "metadata": {
      "needs_background": "light"
     },
     "output_type": "display_data"
    }
   ],
   "source": [
    "# Mostly used Devices\n",
    "\n",
    "\n",
    "device = adsmrt_df['device_make'].value_counts().head(10)\n",
    "plt.figure(figsize=(13, 6.5))\n",
    "sns.barplot(x=device.index, y=device)\n",
    "plt.xticks(rotation= 20)"
   ]
  },
  {
   "cell_type": "code",
   "execution_count": 63,
   "id": "c7a4c745",
   "metadata": {},
   "outputs": [
    {
     "data": {
      "text/plain": [
       "<AxesSubplot:ylabel='platform_os'>"
      ]
     },
     "execution_count": 63,
     "metadata": {},
     "output_type": "execute_result"
    },
    {
     "data": {
      "image/png": "[encoded data removed]",
      "text/plain": [
       "<Figure size 936x468 with 1 Axes>"
      ]
     },
     "metadata": {
      "needs_background": "light"
     },
     "output_type": "display_data"
    }
   ],
   "source": [
    "# Mostly used platforms\n",
    "\n",
    "device = adsmrt_df['platform_os'].value_counts()\n",
    "plt.figure(figsize=(13, 6.5))\n",
    "sns.barplot(x=device.index, y=device)\n",
    "# plt.xticks(rotation= 20)"
   ]
  },
  {
   "cell_type": "code",
   "execution_count": null,
   "id": "c5a47fd5",
   "metadata": {},
   "outputs": [],
   "source": []
  },
  {
   "cell_type": "code",
   "execution_count": null,
   "id": "99b44542",
   "metadata": {},
   "outputs": [],
   "source": []
  }
 ],
 "metadata": {
  "kernelspec": {
   "display_name": "Python 3 (ipykernel)",
   "language": "python",
   "name": "python3"
  },
  "language_info": {
   "codemirror_mode": {
    "name": "ipython",
    "version": 3
   },
   "file_extension": ".py",
   "mimetype": "text/x-python",
   "name": "python",
   "nbconvert_exporter": "python",
   "pygments_lexer": "ipython3",
   "version": "3.8.13"
  }
 },
 "nbformat": 4,
 "nbformat_minor": 5
}
