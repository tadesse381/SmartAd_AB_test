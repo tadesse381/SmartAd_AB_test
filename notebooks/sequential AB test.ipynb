{
 "cells": [
  {
   "cell_type": "code",
   "execution_count": 1,
   "id": "c1c00238",
   "metadata": {},
   "outputs": [],
   "source": [
    "import pandas as pd\n",
    "import numpy as np\n",
    "import scipy\n",
    "import random\n",
    "\n",
    "import matplotlib.pyplot as plt\n",
    "import seaborn as sns\n",
    "import warnings\n",
    "warnings.filterwarnings('ignore')"
   ]
  },
  {
   "cell_type": "code",
   "execution_count": 2,
   "id": "63a9bc4b",
   "metadata": {},
   "outputs": [],
   "source": [
    "file_name = '../data/AdSmartABdata.csv'\n",
    "ad_df = pd.read_csv(file_name)"
   ]
  },
  {
   "cell_type": "markdown",
   "id": "90bdaf39",
   "metadata": {},
   "source": [
    "## Sequential Testing"
   ]
  },
  {
   "cell_type": "code",
   "execution_count": 3,
   "id": "fc64429e",
   "metadata": {},
   "outputs": [],
   "source": [
    "clean_ad_df = ad_df[(ad_df['yes'] == 1) ^ (ad_df['no'] == 1)]\n",
    "clean_ad_df['converted'] = clean_ad_df.yes\n",
    "clean_control = clean_ad_df.groupby('experiment').get_group('control')\n",
    "clean_exposed = clean_ad_df.groupby('experiment').get_group('exposed')\n",
    "# clean_ad_df"
   ]
  },
  {
   "cell_type": "code",
   "execution_count": 4,
   "id": "47eeee6f",
   "metadata": {},
   "outputs": [],
   "source": [
    "class SequentialTest:\n",
    "    def __init__(self,exposed,control,sample_size):\n",
    "        self.exposed = exposed\n",
    "        self.control = control\n",
    "        self.sample_size = sample_size\n",
    "        \n",
    "        '''\n",
    "        initialise startup variables\n",
    "        '''\n",
    "\n",
    "    def stoppingRule(self, T, C):\n",
    "        '''\n",
    "        This function should take current observation and return statistical decision made. \n",
    "        Consider truncate rule for longer tests\n",
    "        '''\n",
    "        if T - C > 2*(self.sample_size)**0.5 :\n",
    "            return (1, \"Exposed group produced a statistically significant increase.\")\n",
    "        elif T + C > self.sample_size:\n",
    "            return (2, \"Their is no statistically significant difference between two test groups\")\n",
    "        else: return (0, 'more samples needed')\n",
    "    \n",
    "    def perform_test(self):\n",
    "        random.shuffle(self.exposed)\n",
    "        random.shuffle(self.control)\n",
    "        self.T, self.C = 0, 0\n",
    "        for i in range(self.sample_size):\n",
    "            self.T += self.exposed[i]\n",
    "            self.C += self.control[i]\n",
    "            j, message = self.stoppingRule(self.T, self.C)\n",
    "            if j == 1 or j == 2:\n",
    "                return message\n",
    "        return 'sample size too small'\n",
    "        \n",
    "    def computeBoundaries(self,):\n",
    "        '''\n",
    "        This function shoud compute boundaries \n",
    "        '''\n",
    "\n",
    "    def plotTest(self,):\n",
    "        '''\n",
    "        showing the cumulative statistical test (e.g., log probability ratio) and the uper and lower limits.\n",
    "        '''\n",
    "\n",
    "    def plotBoundaries(self,):\n",
    "        '''cumulative sums of exposed successes, bounded by the critical limits.\n",
    "        '''\n"
   ]
  },
  {
   "cell_type": "code",
   "execution_count": 5,
   "id": "e2ebacca",
   "metadata": {},
   "outputs": [],
   "source": [
    "\n",
    "def transform_data(df, sample_size):\n",
    "    '''\n",
    "    segment data into exposed and control groups\n",
    "    consider that SmartAd runs the experment hourly, group data into hours. \n",
    "      Hint: create new column to hold date+hour and use df.column.map(lambda x:  pd.Timestamp(x,tz=None).strftime('%Y-%m-%d:%H'))\n",
    "    create two dataframes with bernouli series 1 for posetive(yes) and 0 for negative(no)\n",
    "    Hint: Given engagement(sum of yes and no until current observation as an array) and success (yes countas an array), \n",
    "    the method generates random binomial distribution\n",
    "        #Example\n",
    "           engagement = np.array([5, 3, 3])\n",
    "           yes = np.array([2, 0, 3])       \n",
    "         Output is \"[1] 1 0 1 0 0 0 0 0 1 1 1\", showing a binary array of 5+3+3 values\n",
    "         of which 2 of the first 5 are ones, 0 of the next 3 are ones, and all 3 of\n",
    "         the last 3 are ones where position the ones is randomly distributed within each group.\n",
    "    '''\n",
    "    #exposed = df[df['clicked'] == 1][df['experiment'] == 'exposed']\n",
    "    #control = df[df['clicked'] == 1][df['experiment'] == 'control']\n",
    "    #exposed = np.array(exposed.sample(sample_size)['yes'])\n",
    "    #control = np.array(control.sample(sample_size)['yes'])\n",
    "    \n",
    "    clean_control = df.groupby('experiment').get_group('control')\n",
    "    clean_exposed = df.groupby('experiment').get_group('exposed')\n",
    "    \n",
    "    control_yes = np.array(clean_control.yes)\n",
    "    exposed_yes = np.array(clean_exposed.yes)\n",
    "    return exposed_yes, control_yes\n",
    "\n",
    "def plotDataSummary(exposed, control):\n",
    "    fig, axs = plt.subplots(1,2,figsize=(16,4))\n",
    "    fig.suptitle('Yes-no distribution per group')\n",
    "    sns.countplot(x = 'yes', data=pd.DataFrame({'yes' : exposed}),ax=axs[0]).set_title('Exposed Group')\n",
    "    sns.countplot(x = 'yes', data=pd.DataFrame({'yes' : control}),ax=axs[1]).set_title('Control Group')\n",
    "    \n",
    "def pretyPrintTestResult(test):\n",
    "    '''This function print final test result. Json format is recommended. For example'''\n",
    "    message = test.perform_test()\n",
    "    res = {\n",
    "    \"name\": \"Sequential AB Testing\",\n",
    "    \"engagementCountControl\": len(test.control),\n",
    "    \"engagementCountExposed\": len(test.exposed),\n",
    "    \"positiveCountControl\": test.C,\n",
    "    \"positiveCountExposed\": test.T,\n",
    "    \"TotalObservation\": message\n",
    "    }\n",
    "    return res"
   ]
  },
  {
   "cell_type": "code",
   "execution_count": 6,
   "id": "227fad13",
   "metadata": {},
   "outputs": [
    {
     "data": {
      "image/png": "[encoded data removed]",
      "text/plain": [
       "<Figure size 1152x288 with 2 Axes>"
      ]
     },
     "metadata": {
      "needs_background": "light"
     },
     "output_type": "display_data"
    }
   ],
   "source": [
    "sample_size = 550\n",
    "\n",
    "##data processing here\n",
    "exposed, control = transform_data(clean_ad_df, sample_size)\n",
    "\n",
    "##plot data summary\n",
    "plotDataSummary(exposed,control)"
   ]
  },
  {
   "cell_type": "code",
   "execution_count": 7,
   "id": "881979ba",
   "metadata": {},
   "outputs": [
    {
     "data": {
      "text/plain": [
       "{'name': 'Sequential AB Testing',\n",
       " 'engagementCountControl': 586,\n",
       " 'engagementCountExposed': 657,\n",
       " 'positiveCountControl': 250,\n",
       " 'positiveCountExposed': 253,\n",
       " 'TotalObservation': 'sample size too small'}"
      ]
     },
     "execution_count": 7,
     "metadata": {},
     "output_type": "execute_result"
    }
   ],
   "source": [
    "seq_test=SequentialTest(exposed, control, sample_size)\n",
    "\n",
    "pretyPrintTestResult(seq_test)"
   ]
  },
  {
   "cell_type": "code",
   "execution_count": null,
   "id": "52398477",
   "metadata": {},
   "outputs": [],
   "source": []
  }
 ],
 "metadata": {
  "kernelspec": {
   "display_name": "Python 3",
   "language": "python",
   "name": "python3"
  },
  "language_info": {
   "codemirror_mode": {
    "name": "ipython",
    "version": 3
   },
   "file_extension": ".py",
   "mimetype": "text/x-python",
   "name": "python",
   "nbconvert_exporter": "python",
   "pygments_lexer": "ipython3",
   "version": "3.8.8"
  }
 },
 "nbformat": 4,
 "nbformat_minor": 5
}
