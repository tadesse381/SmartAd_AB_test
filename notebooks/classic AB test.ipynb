{
 "cells": [
  {
   "cell_type": "code",
   "execution_count": 1,
   "id": "ec548733",
   "metadata": {},
   "outputs": [],
   "source": [
    "import pandas as pd\n",
    "import numpy as np\n",
    "import scipy\n",
    "import random\n",
    "\n",
    "import matplotlib.pyplot as plt\n",
    "import seaborn as sns\n",
    "import warnings\n",
    "warnings.filterwarnings('ignore')"
   ]
  },
  {
   "cell_type": "code",
   "execution_count": 2,
   "id": "c17fbe90",
   "metadata": {},
   "outputs": [],
   "source": [
    "file_name = '../data/AdSmartABdata.csv'\n",
    "ad_df = pd.read_csv(file_name)"
   ]
  },
  {
   "cell_type": "markdown",
   "id": "e555798e",
   "metadata": {},
   "source": [
    "## Exposed and control Data"
   ]
  },
  {
   "cell_type": "markdown",
   "id": "7673d530",
   "metadata": {},
   "source": [
    "### clean out usesrs who don't respond to the experiment"
   ]
  },
  {
   "cell_type": "code",
   "execution_count": 12,
   "id": "f972cb4f",
   "metadata": {},
   "outputs": [],
   "source": [
    "clean_ad_df = ad_df[(ad_df['yes'] == 1) ^ (ad_df['no'] == 1)]\n",
    "clean_ad_df['converted'] = clean_ad_df.yes\n",
    "\n",
    "clean_control = clean_ad_df.groupby('experiment').get_group('control')\n",
    "clean_exposed = clean_ad_df.groupby('experiment').get_group('exposed')\n",
    "# clean_ad_df"
   ]
  },
  {
   "cell_type": "code",
   "execution_count": 13,
   "id": "1bf44222",
   "metadata": {},
   "outputs": [
    {
     "data": {
      "text/html": [
       "<div>\n",
       "<style scoped>\n",
       "    .dataframe tbody tr th:only-of-type {\n",
       "        vertical-align: middle;\n",
       "    }\n",
       "\n",
       "    .dataframe tbody tr th {\n",
       "        vertical-align: top;\n",
       "    }\n",
       "\n",
       "    .dataframe thead th {\n",
       "        text-align: right;\n",
       "    }\n",
       "</style>\n",
       "<table border=\"1\" class=\"dataframe\">\n",
       "  <thead>\n",
       "    <tr style=\"text-align: right;\">\n",
       "      <th></th>\n",
       "      <th>auction_id</th>\n",
       "      <th>experiment</th>\n",
       "      <th>date</th>\n",
       "      <th>hour</th>\n",
       "      <th>device_make</th>\n",
       "      <th>platform_os</th>\n",
       "      <th>browser</th>\n",
       "      <th>yes</th>\n",
       "      <th>no</th>\n",
       "      <th>converted</th>\n",
       "    </tr>\n",
       "  </thead>\n",
       "  <tbody>\n",
       "    <tr>\n",
       "      <th>2</th>\n",
       "      <td>0016d14a-ae18-4a02-a204-6ba53b52f2ed</td>\n",
       "      <td>exposed</td>\n",
       "      <td>2020-07-05</td>\n",
       "      <td>2</td>\n",
       "      <td>E5823</td>\n",
       "      <td>6</td>\n",
       "      <td>Chrome Mobile WebView</td>\n",
       "      <td>0</td>\n",
       "      <td>1</td>\n",
       "      <td>0</td>\n",
       "    </tr>\n",
       "    <tr>\n",
       "      <th>16</th>\n",
       "      <td>008aafdf-deef-4482-8fec-d98e3da054da</td>\n",
       "      <td>exposed</td>\n",
       "      <td>2020-07-04</td>\n",
       "      <td>16</td>\n",
       "      <td>Generic Smartphone</td>\n",
       "      <td>6</td>\n",
       "      <td>Chrome Mobile</td>\n",
       "      <td>1</td>\n",
       "      <td>0</td>\n",
       "      <td>1</td>\n",
       "    </tr>\n",
       "    <tr>\n",
       "      <th>20</th>\n",
       "      <td>00a1384a-5118-4d1b-925b-6cdada50318d</td>\n",
       "      <td>exposed</td>\n",
       "      <td>2020-07-06</td>\n",
       "      <td>8</td>\n",
       "      <td>Generic Smartphone</td>\n",
       "      <td>6</td>\n",
       "      <td>Chrome Mobile</td>\n",
       "      <td>0</td>\n",
       "      <td>1</td>\n",
       "      <td>0</td>\n",
       "    </tr>\n",
       "    <tr>\n",
       "      <th>23</th>\n",
       "      <td>00b6fadb-10bd-49e3-a778-290da82f7a8d</td>\n",
       "      <td>control</td>\n",
       "      <td>2020-07-08</td>\n",
       "      <td>4</td>\n",
       "      <td>Samsung SM-A202F</td>\n",
       "      <td>6</td>\n",
       "      <td>Facebook</td>\n",
       "      <td>1</td>\n",
       "      <td>0</td>\n",
       "      <td>1</td>\n",
       "    </tr>\n",
       "    <tr>\n",
       "      <th>27</th>\n",
       "      <td>00ebf4a8-060f-4b99-93ac-c62724399483</td>\n",
       "      <td>control</td>\n",
       "      <td>2020-07-03</td>\n",
       "      <td>15</td>\n",
       "      <td>Generic Smartphone</td>\n",
       "      <td>6</td>\n",
       "      <td>Chrome Mobile</td>\n",
       "      <td>0</td>\n",
       "      <td>1</td>\n",
       "      <td>0</td>\n",
       "    </tr>\n",
       "  </tbody>\n",
       "</table>\n",
       "</div>"
      ],
      "text/plain": [
       "                              auction_id experiment        date  hour  \\\n",
       "2   0016d14a-ae18-4a02-a204-6ba53b52f2ed    exposed  2020-07-05     2   \n",
       "16  008aafdf-deef-4482-8fec-d98e3da054da    exposed  2020-07-04    16   \n",
       "20  00a1384a-5118-4d1b-925b-6cdada50318d    exposed  2020-07-06     8   \n",
       "23  00b6fadb-10bd-49e3-a778-290da82f7a8d    control  2020-07-08     4   \n",
       "27  00ebf4a8-060f-4b99-93ac-c62724399483    control  2020-07-03    15   \n",
       "\n",
       "           device_make  platform_os                browser  yes  no  converted  \n",
       "2                E5823            6  Chrome Mobile WebView    0   1          0  \n",
       "16  Generic Smartphone            6          Chrome Mobile    1   0          1  \n",
       "20  Generic Smartphone            6          Chrome Mobile    0   1          0  \n",
       "23    Samsung SM-A202F            6               Facebook    1   0          1  \n",
       "27  Generic Smartphone            6          Chrome Mobile    0   1          0  "
      ]
     },
     "execution_count": 13,
     "metadata": {},
     "output_type": "execute_result"
    }
   ],
   "source": [
    "clean_ad_df.head()"
   ]
  },
  {
   "cell_type": "code",
   "execution_count": 34,
   "id": "64267a98",
   "metadata": {},
   "outputs": [
    {
     "name": "stdout",
     "output_type": "stream",
     "text": [
      "***********************\n",
      "** Controled Summary **\n",
      "***********************\n",
      "\n",
      "Total Controls=586 \t Converted=264\n"
     ]
    }
   ],
   "source": [
    "print(\"***********************\")\n",
    "print(\"** Controled Summary **\")\n",
    "print(\"***********************\")\n",
    "print()\n",
    "\n",
    "summary_control = clean_control.agg({'auction_id': 'count', 'converted':'sum'})\n",
    "summary_control['total'] = summary_control['auction_id']\n",
    "summary_control.drop('auction_id', inplace=True)\n",
    "\n",
    "print(f\"Total Controls={summary_control[1]} \\t Converted={summary_control[0]}\")"
   ]
  },
  {
   "cell_type": "code",
   "execution_count": 35,
   "id": "2838dbaf",
   "metadata": {},
   "outputs": [
    {
     "name": "stdout",
     "output_type": "stream",
     "text": [
      "***********************\n",
      "** Exposed Summary ****\n",
      "***********************\n",
      "\n",
      "Total Controls=657 \t Converted=308\n"
     ]
    }
   ],
   "source": [
    "print(\"***********************\")\n",
    "print(\"** Exposed Summary ****\")\n",
    "print(\"***********************\")\n",
    "print()\n",
    "\n",
    "summary_exposed = clean_exposed.agg({'auction_id': 'count', 'converted':'sum'})\n",
    "summary_exposed['total'] = summary_exposed['auction_id']\n",
    "summary_exposed.drop('auction_id', inplace=True)\n",
    "summary_exposed\n",
    "\n",
    "print(f\"Total Controls={summary_exposed[1]} \\t Converted={summary_exposed[0]}\")"
   ]
  },
  {
   "cell_type": "code",
   "execution_count": 36,
   "id": "fd1d5c18",
   "metadata": {},
   "outputs": [
    {
     "name": "stdout",
     "output_type": "stream",
     "text": [
      "**********************\n",
      "** Convertion Rate ***\n",
      "**********************\n",
      "\n",
      "Control Group conversion rate is 45.05 %\n",
      "Exposed Group conversion rate is 46.88 %\n"
     ]
    }
   ],
   "source": [
    "print(\"**********************\")\n",
    "print(\"** Convertion Rate ***\")\n",
    "print(\"**********************\")\n",
    "print()\n",
    "\n",
    "control_analysis = clean_control['converted'].agg(['mean', 'std'])\n",
    "print(f\"Control Group conversion rate is {round(control_analysis[0] * 100,2)} %\")\n",
    "\n",
    "exposed_analysis = clean_exposed['converted'].agg(['mean', 'std'])\n",
    "print(f\"Exposed Group conversion rate is {round(exposed_analysis[0] * 100,2)} %\")"
   ]
  },
  {
   "cell_type": "code",
   "execution_count": null,
   "id": "a704d6bf",
   "metadata": {},
   "outputs": [],
   "source": []
  },
  {
   "cell_type": "code",
   "execution_count": 41,
   "id": "fb707159",
   "metadata": {},
   "outputs": [
    {
     "name": "stdout",
     "output_type": "stream",
     "text": [
      "************************\n",
      "** Clasic A/B Result ***\n",
      "************************\n",
      "\n",
      "Z-value : 0.9132960806052228\n",
      "P-value : 0.1805434215776347\n"
     ]
    }
   ],
   "source": [
    "\n",
    "\n",
    "def get_z_value(control_meam, exposed_mean, sample_size):\n",
    "    z = (exposed_mean - control_meam)/(control_meam*(1-control_meam)/sample_size)**0.5\n",
    "    return z\n",
    "\n",
    "\n",
    "\n",
    "sample_size = clean_control.shape[0]\n",
    "\n",
    "control_sample = clean_control.sample(sample_size)\n",
    "exposed_sample = clean_exposed.sample(sample_size)\n",
    "\n",
    "control_analysis = control_sample['converted'].agg(['mean', 'std'])\n",
    "exposed_analysis = exposed_sample['converted'].agg(['mean', 'std'])\n",
    "\n",
    "z_result = get_z_value(control_analysis[0], exposed_analysis[0], sample_size)\n",
    "\n",
    "print(\"************************\")\n",
    "print(\"** Clasic A/B Result ***\")\n",
    "print(\"************************\")\n",
    "print()\n",
    "\n",
    "print(f\"Z-value : {z_result}\")\n",
    "print(f\"P-value : {scipy.stats.norm.sf(z_result)}\")"
   ]
  },
  {
   "cell_type": "markdown",
   "id": "95a9cc9a",
   "metadata": {},
   "source": [
    "#### since our p-value is > 0.05 we can't disproof our null hypothesis, That means the advertisement didn't increase the Brand awarness"
   ]
  },
  {
   "cell_type": "code",
   "execution_count": 51,
   "id": "43bd688a",
   "metadata": {},
   "outputs": [
    {
     "data": {
      "text/plain": [
       "(-2.571241344425307, 0.010133468049018098)"
      ]
     },
     "execution_count": 51,
     "metadata": {},
     "output_type": "execute_result"
    }
   ],
   "source": [
    "from statsmodels.stats.proportion import proportions_ztest\n",
    "check = proportions_ztest([clean_control['converted'].sum(), clean_exposed['converted'].sum()],nobs= [sample_size, sample_size])\n",
    "\n",
    "check\n"
   ]
  }
 ],
 "metadata": {
  "kernelspec": {
   "display_name": "Python 3",
   "language": "python",
   "name": "python3"
  },
  "language_info": {
   "codemirror_mode": {
    "name": "ipython",
    "version": 3
   },
   "file_extension": ".py",
   "mimetype": "text/x-python",
   "name": "python",
   "nbconvert_exporter": "python",
   "pygments_lexer": "ipython3",
   "version": "3.8.8"
  }
 },
 "nbformat": 4,
 "nbformat_minor": 5
}
